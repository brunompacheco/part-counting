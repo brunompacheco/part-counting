{
 "cells": [
  {
   "cell_type": "code",
   "execution_count": 1,
   "id": "5dfbc75d",
   "metadata": {},
   "outputs": [],
   "source": [
    "%load_ext autoreload\n",
    "%autoreload 2"
   ]
  },
  {
   "cell_type": "code",
   "execution_count": 5,
   "id": "906ea924",
   "metadata": {},
   "outputs": [
    {
     "data": {
      "text/plain": [
       "True"
      ]
     },
     "execution_count": 5,
     "metadata": {},
     "output_type": "execute_result"
    }
   ],
   "source": [
    "import h5py\n",
    "import numpy as np\n",
    "import open3d as o3d\n",
    "\n",
    "from dotenv import load_dotenv, find_dotenv\n",
    "from pathlib import Path\n",
    "\n",
    "# find .env automagically by walking up directories until it's found\n",
    "dotenv_path = find_dotenv()\n",
    "project_dir = Path(dotenv_path).parent\n",
    "\n",
    "# load up the entries as environment variables\n",
    "load_dotenv(dotenv_path)"
   ]
  },
  {
   "cell_type": "markdown",
   "id": "57158f45",
   "metadata": {},
   "source": [
    "# Load image"
   ]
  },
  {
   "cell_type": "code",
   "execution_count": null,
   "id": "5f6c3df5",
   "metadata": {},
   "outputs": [],
   "source": [
    "raw_data_dir = project_dir/'data/raw/render_results'\n",
    "\n",
    "syms_dirs = list(raw_data_dir.glob('simulacao*'))"
   ]
  },
  {
   "cell_type": "markdown",
   "id": "3f66a0f1",
   "metadata": {},
   "source": [
    "# Create HDF5"
   ]
  },
  {
   "cell_type": "code",
   "execution_count": 3,
   "id": "fcc7bc65",
   "metadata": {},
   "outputs": [
    {
     "data": {
      "text/plain": [
       "PosixPath('/home/ctc_das/Desktop/part_counting/data/raw/render_results/simulacao245/simulacao245_0032.png')"
      ]
     },
     "execution_count": 3,
     "metadata": {},
     "output_type": "execute_result"
    }
   ],
   "source": [
    "sym_dir = np.random.choice(syms_dirs)\n",
    "img_fpath = np.random.choice(list(sym_dir.glob('*.png')))\n",
    "img_fpath"
   ]
  },
  {
   "cell_type": "code",
   "execution_count": 4,
   "id": "3f7fad74",
   "metadata": {},
   "outputs": [
    {
     "data": {
      "text/plain": [
       "Image of size 512x512, with 4 channels.\n",
       "Use numpy.asarray to access buffer data."
      ]
     },
     "execution_count": 4,
     "metadata": {},
     "output_type": "execute_result"
    }
   ],
   "source": [
    "img = o3d.io.read_image(str(img_fpath))\n",
    "img"
   ]
  },
  {
   "cell_type": "code",
   "execution_count": 42,
   "id": "0a31e209",
   "metadata": {},
   "outputs": [
    {
     "data": {
      "text/plain": [
       "<HDF5 file \"single_render.hdf5\" (mode r+)>"
      ]
     },
     "execution_count": 42,
     "metadata": {},
     "output_type": "execute_result"
    }
   ],
   "source": [
    "h5_fpath = project_dir/'data/interim/single_render.hdf5'\n",
    "\n",
    "# TODO: explore chunking (see https://docs.h5py.org/en/stable/high/file.html#chunk-cache\n",
    "# and https://portal.hdfgroup.org/display/HDF5/Chunking+in+HDF5)\n",
    "# it may be useful for keeping the hdf5 in HDD\n",
    "h = h5py.File(str(h5_fpath), \"w\")\n",
    "h"
   ]
  },
  {
   "cell_type": "code",
   "execution_count": 43,
   "id": "030a7c64",
   "metadata": {},
   "outputs": [
    {
     "data": {
      "text/plain": [
       "(2, 512, 512)"
      ]
     },
     "execution_count": 43,
     "metadata": {},
     "output_type": "execute_result"
    }
   ],
   "source": [
    "# swap axis so that channels is the first axis\n",
    "data = np.moveaxis(np.array(img)[:,:,1:3], -1, 0)\n",
    "data.shape"
   ]
  },
  {
   "cell_type": "code",
   "execution_count": 44,
   "id": "79a29ef3",
   "metadata": {},
   "outputs": [
    {
     "data": {
      "text/plain": [
       "'245_0032'"
      ]
     },
     "execution_count": 44,
     "metadata": {},
     "output_type": "execute_result"
    }
   ],
   "source": [
    "dset_name = img_fpath.name.replace('.png','').replace('simulacao','')\n",
    "dset_name"
   ]
  },
  {
   "cell_type": "code",
   "execution_count": 45,
   "id": "618787be",
   "metadata": {},
   "outputs": [
    {
     "data": {
      "text/plain": [
       "<HDF5 dataset \"245_0032\": shape (2, 512, 512), type \"|u1\">"
      ]
     },
     "execution_count": 45,
     "metadata": {},
     "output_type": "execute_result"
    }
   ],
   "source": [
    "h.create_dataset(dset_name, data=data)"
   ]
  },
  {
   "cell_type": "code",
   "execution_count": 46,
   "id": "23469119",
   "metadata": {},
   "outputs": [],
   "source": [
    "h.close()"
   ]
  },
  {
   "cell_type": "code",
   "execution_count": 47,
   "id": "abcc62dc",
   "metadata": {},
   "outputs": [
    {
     "data": {
      "text/plain": [
       "526336"
      ]
     },
     "execution_count": 47,
     "metadata": {},
     "output_type": "execute_result"
    }
   ],
   "source": [
    "h5_fpath.stat().st_size"
   ]
  },
  {
   "cell_type": "code",
   "execution_count": 48,
   "id": "747c2fca",
   "metadata": {},
   "outputs": [
    {
     "data": {
      "text/plain": [
       "392919"
      ]
     },
     "execution_count": 48,
     "metadata": {},
     "output_type": "execute_result"
    }
   ],
   "source": [
    "img_fpath.stat().st_size"
   ]
  },
  {
   "cell_type": "markdown",
   "id": "b97563cc",
   "metadata": {},
   "source": [
    "So it adds some header to the data, as expected as it drops the png compression."
   ]
  },
  {
   "cell_type": "markdown",
   "id": "231196e2",
   "metadata": {},
   "source": [
    "# Create HDF5 with multiple images"
   ]
  },
  {
   "cell_type": "code",
   "execution_count": 57,
   "id": "6807ab5c",
   "metadata": {
    "scrolled": false
   },
   "outputs": [
    {
     "data": {
      "text/plain": [
       "1000"
      ]
     },
     "execution_count": 57,
     "metadata": {},
     "output_type": "execute_result"
    }
   ],
   "source": [
    "# sym_dir = np.random.choice(syms_dirs)\n",
    "img_fpaths = np.random.choice(list(raw_data_dir.glob('*/*.png')), 1000, replace=False)\n",
    "len(np.unique(img_fpaths))"
   ]
  },
  {
   "cell_type": "code",
   "execution_count": 65,
   "id": "037c8490",
   "metadata": {},
   "outputs": [
    {
     "data": {
      "text/plain": [
       "395976074"
      ]
     },
     "execution_count": 65,
     "metadata": {},
     "output_type": "execute_result"
    }
   ],
   "source": [
    "imgs_size = sum([img_fpath.stat().st_size for img_fpath in img_fpaths])\n",
    "imgs_size"
   ]
  },
  {
   "cell_type": "code",
   "execution_count": 66,
   "id": "f154ef01",
   "metadata": {},
   "outputs": [
    {
     "data": {
      "text/plain": [
       "524662016"
      ]
     },
     "execution_count": 66,
     "metadata": {},
     "output_type": "execute_result"
    }
   ],
   "source": [
    "h5_fpath = project_dir/'data/interim/multiple_renders.hdf5'\n",
    "\n",
    "with h5py.File(str(h5_fpath), \"w\") as h:\n",
    "    for img_fpath in img_fpaths:\n",
    "        img = o3d.io.read_image(str(img_fpath))\n",
    "\n",
    "        data = np.moveaxis(np.array(img)[:,:,1:3], -1, 0)\n",
    "\n",
    "        dset_name = img_fpath.name.replace('.png','').replace('simulacao','')\n",
    "\n",
    "        h.create_dataset(dset_name, data=data)\n",
    "\n",
    "h5_size = h5_fpath.stat().st_size\n",
    "h5_size"
   ]
  },
  {
   "cell_type": "code",
   "execution_count": 69,
   "id": "c10ab6a2",
   "metadata": {},
   "outputs": [
    {
     "data": {
      "text/plain": [
       "0.3249841352788401"
      ]
     },
     "execution_count": 69,
     "metadata": {},
     "output_type": "execute_result"
    }
   ],
   "source": [
    "(h5_size - imgs_size) / imgs_size"
   ]
  },
  {
   "cell_type": "markdown",
   "id": "796f6f07",
   "metadata": {},
   "source": [
    "# Reading speed comparison"
   ]
  },
  {
   "cell_type": "code",
   "execution_count": 92,
   "id": "20eebe1b",
   "metadata": {},
   "outputs": [
    {
     "data": {
      "text/plain": [
       "524662016"
      ]
     },
     "execution_count": 92,
     "metadata": {},
     "output_type": "execute_result"
    }
   ],
   "source": [
    "h5_fpath = Path('/data/multiple_renders.hdf5')\n",
    "\n",
    "all_dsets = list()\n",
    "with h5py.File(str(h5_fpath), \"w\") as h:\n",
    "    for img_fpath in img_fpaths:\n",
    "        img = o3d.io.read_image(str(img_fpath))\n",
    "\n",
    "        data = np.moveaxis(np.array(img)[:,:,1:3], -1, 0)\n",
    "\n",
    "        dset_name = img_fpath.name.replace('.png','').replace('simulacao','')\n",
    "        all_dsets.append(dset_name)\n",
    "\n",
    "        h.create_dataset(dset_name, data=data)\n",
    "\n",
    "h5_size = h5_fpath.stat().st_size\n",
    "h5_size"
   ]
  },
  {
   "cell_type": "code",
   "execution_count": 78,
   "id": "50d3cf9f",
   "metadata": {},
   "outputs": [
    {
     "name": "stdout",
     "output_type": "stream",
     "text": [
      "CPU times: user 5.33 s, sys: 79.5 ms, total: 5.41 s\n",
      "Wall time: 5.41 s\n"
     ]
    }
   ],
   "source": [
    "%%time\n",
    "\n",
    "for img_fpath in img_fpaths:\n",
    "    np.array(o3d.io.read_image(str(img_fpath)))"
   ]
  },
  {
   "cell_type": "code",
   "execution_count": 101,
   "id": "0e2a946d",
   "metadata": {},
   "outputs": [
    {
     "name": "stdout",
     "output_type": "stream",
     "text": [
      "CPU times: user 124 ms, sys: 48.1 ms, total: 172 ms\n",
      "Wall time: 171 ms\n"
     ]
    }
   ],
   "source": [
    "%%time\n",
    "\n",
    "with h5py.File(h5_fpath, 'r') as h:\n",
    "    for dset_name in all_dsets:\n",
    "        d = h[dset_name][:]"
   ]
  },
  {
   "cell_type": "code",
   "execution_count": 100,
   "id": "15979258",
   "metadata": {},
   "outputs": [
    {
     "name": "stdout",
     "output_type": "stream",
     "text": [
      "CPU times: user 272 ms, sys: 52.1 ms, total: 324 ms\n",
      "Wall time: 324 ms\n"
     ]
    }
   ],
   "source": [
    "%%time\n",
    "\n",
    "for dset_name in all_dsets:\n",
    "    with h5py.File(h5_fpath, 'r') as h:\n",
    "        d = h[dset_name][:]"
   ]
  },
  {
   "cell_type": "markdown",
   "id": "a1782010",
   "metadata": {},
   "source": [
    "So HDF5 is a lot faster than png, which is expected as it doesn't compress the data."
   ]
  },
  {
   "cell_type": "code",
   "execution_count": 104,
   "id": "70457c8d",
   "metadata": {},
   "outputs": [
    {
     "data": {
      "text/plain": [
       "281973280"
      ]
     },
     "execution_count": 104,
     "metadata": {},
     "output_type": "execute_result"
    }
   ],
   "source": [
    "compressed_h5_fpath = Path('/data/multiple_renders_compressed.hdf5')\n",
    "\n",
    "with h5py.File(str(compressed_h5_fpath), \"w\") as h:\n",
    "    for img_fpath in img_fpaths:\n",
    "        img = o3d.io.read_image(str(img_fpath))\n",
    "\n",
    "        data = np.moveaxis(np.array(img)[:,:,1:3], -1, 0)\n",
    "\n",
    "        dset_name = img_fpath.name.replace('.png','').replace('simulacao','')\n",
    "\n",
    "        h.create_dataset(dset_name, data=data, compression='gzip')\n",
    "\n",
    "compressed_h5_size = compressed_h5_fpath.stat().st_size\n",
    "compressed_h5_size"
   ]
  },
  {
   "cell_type": "code",
   "execution_count": 103,
   "id": "ff200a25",
   "metadata": {},
   "outputs": [
    {
     "name": "stdout",
     "output_type": "stream",
     "text": [
      "CPU times: user 2.65 s, sys: 51.8 ms, total: 2.71 s\n",
      "Wall time: 2.71 s\n"
     ]
    }
   ],
   "source": [
    "%%time\n",
    "\n",
    "for dset_name in all_dsets:\n",
    "    with h5py.File(compressed_h5_fpath, 'r') as h:\n",
    "        d = h[dset_name][:]"
   ]
  },
  {
   "cell_type": "markdown",
   "id": "ba8ccf4c",
   "metadata": {},
   "source": [
    "Yet, even with a better compression than the pngs it is still significantly faster."
   ]
  }
 ],
 "metadata": {
  "kernelspec": {
   "display_name": "Python [conda env:part_counting]",
   "language": "python",
   "name": "conda-env-part_counting-py"
  },
  "language_info": {
   "codemirror_mode": {
    "name": "ipython",
    "version": 3
   },
   "file_extension": ".py",
   "mimetype": "text/x-python",
   "name": "python",
   "nbconvert_exporter": "python",
   "pygments_lexer": "ipython3",
   "version": "3.8.12"
  }
 },
 "nbformat": 4,
 "nbformat_minor": 5
}
