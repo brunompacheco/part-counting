{
 "cells": [
  {
   "cell_type": "code",
   "execution_count": 1,
   "id": "de6c13a7",
   "metadata": {},
   "outputs": [],
   "source": [
    "%load_ext autoreload\n",
    "%autoreload 2"
   ]
  },
  {
   "cell_type": "code",
   "execution_count": 6,
   "id": "904a1f7e",
   "metadata": {},
   "outputs": [
    {
     "data": {
      "text/plain": [
       "True"
      ]
     },
     "execution_count": 6,
     "metadata": {},
     "output_type": "execute_result"
    }
   ],
   "source": [
    "import h5py\n",
    "import matplotlib.pyplot as plt\n",
    "import numpy as np\n",
    "import pandas as pd\n",
    "import torch\n",
    "import random\n",
    "\n",
    "from dotenv import load_dotenv, find_dotenv\n",
    "from pathlib import Path\n",
    "\n",
    "from torch.utils.data import DataLoader, random_split\n",
    "from tqdm.notebook import tqdm\n",
    "\n",
    "from src.data import FimacDataset\n",
    "from src.models import load_model\n",
    "\n",
    "# device = torch.device(\"cuda:0\" if torch.cuda.is_available() else \"cpu\")\n",
    "device = 'cpu'\n",
    "\n",
    "# find .env automagically by walking up directories until it's found\n",
    "dotenv_path = find_dotenv()\n",
    "project_dir = Path(dotenv_path).parent\n",
    "\n",
    "# load up the entries as environment variables\n",
    "load_dotenv(dotenv_path)"
   ]
  },
  {
   "cell_type": "code",
   "execution_count": 3,
   "id": "5371a718",
   "metadata": {},
   "outputs": [
    {
     "data": {
      "text/plain": [
       "TestNet(\n",
       "  (conv1): Conv2d(2, 32, kernel_size=(3, 3), stride=(1, 1), padding=(1, 1))\n",
       "  (conv2): Conv2d(32, 64, kernel_size=(3, 3), stride=(1, 1), padding=(1, 1))\n",
       "  (dropout1): Dropout2d(p=0.25, inplace=False)\n",
       "  (fc1): Linear(in_features=1048576, out_features=128, bias=True)\n",
       "  (dropout2): Dropout2d(p=0.5, inplace=False)\n",
       "  (fc2): Linear(in_features=128, out_features=1, bias=True)\n",
       ")"
      ]
     },
     "execution_count": 3,
     "metadata": {},
     "output_type": "execute_result"
    }
   ],
   "source": [
    "model_fpath = project_dir/'models/genial-wood-25__TestNet.pth'\n",
    "net = load_model(model_fpath).to(device)\n",
    "net.eval()\n",
    "net"
   ]
  },
  {
   "cell_type": "code",
   "execution_count": 4,
   "id": "2999a176",
   "metadata": {},
   "outputs": [],
   "source": [
    "dataset = FimacDataset(project_dir/'data/interim/renders.hdf5')\n",
    "\n",
    "torch.manual_seed(42)\n",
    "np.random.seed(42)\n",
    "random.seed(42)\n",
    "\n",
    "# split train into train and validation\n",
    "train_val_split = .8\n",
    "train_size = int(len(dataset) * train_val_split)\n",
    "train_data, val_data = random_split(\n",
    "    dataset,\n",
    "    (train_size, len(dataset) - train_size),\n",
    ")"
   ]
  },
  {
   "cell_type": "code",
   "execution_count": 7,
   "id": "84b8add9",
   "metadata": {},
   "outputs": [
    {
     "data": {
      "application/vnd.jupyter.widget-view+json": {
       "model_id": "178d9e99957f48f2a67efc10960f947f",
       "version_major": 2,
       "version_minor": 0
      },
      "text/plain": [
       "  0%|          | 0/505 [00:00<?, ?it/s]"
      ]
     },
     "metadata": {},
     "output_type": "display_data"
    },
    {
     "data": {
      "text/html": [
       "<div>\n",
       "<style scoped>\n",
       "    .dataframe tbody tr th:only-of-type {\n",
       "        vertical-align: middle;\n",
       "    }\n",
       "\n",
       "    .dataframe tbody tr th {\n",
       "        vertical-align: top;\n",
       "    }\n",
       "\n",
       "    .dataframe thead th {\n",
       "        text-align: right;\n",
       "    }\n",
       "</style>\n",
       "<table border=\"1\" class=\"dataframe\">\n",
       "  <thead>\n",
       "    <tr style=\"text-align: right;\">\n",
       "      <th></th>\n",
       "      <th>gt</th>\n",
       "      <th>pred</th>\n",
       "      <th>pred_int</th>\n",
       "      <th>err</th>\n",
       "    </tr>\n",
       "  </thead>\n",
       "  <tbody>\n",
       "    <tr>\n",
       "      <th>0</th>\n",
       "      <td>23</td>\n",
       "      <td>22.490866</td>\n",
       "      <td>22</td>\n",
       "      <td>0.509134</td>\n",
       "    </tr>\n",
       "    <tr>\n",
       "      <th>1</th>\n",
       "      <td>14</td>\n",
       "      <td>14.037080</td>\n",
       "      <td>14</td>\n",
       "      <td>0.037080</td>\n",
       "    </tr>\n",
       "    <tr>\n",
       "      <th>2</th>\n",
       "      <td>43</td>\n",
       "      <td>42.456673</td>\n",
       "      <td>42</td>\n",
       "      <td>0.543327</td>\n",
       "    </tr>\n",
       "    <tr>\n",
       "      <th>3</th>\n",
       "      <td>32</td>\n",
       "      <td>32.722424</td>\n",
       "      <td>33</td>\n",
       "      <td>0.722424</td>\n",
       "    </tr>\n",
       "    <tr>\n",
       "      <th>4</th>\n",
       "      <td>18</td>\n",
       "      <td>17.588490</td>\n",
       "      <td>18</td>\n",
       "      <td>0.411510</td>\n",
       "    </tr>\n",
       "  </tbody>\n",
       "</table>\n",
       "</div>"
      ],
      "text/plain": [
       "   gt       pred  pred_int       err\n",
       "0  23  22.490866        22  0.509134\n",
       "1  14  14.037080        14  0.037080\n",
       "2  43  42.456673        42  0.543327\n",
       "3  32  32.722424        33  0.722424\n",
       "4  18  17.588490        18  0.411510"
      ]
     },
     "execution_count": 7,
     "metadata": {},
     "output_type": "execute_result"
    }
   ],
   "source": [
    "ys = list()\n",
    "y_hats = list()\n",
    "\n",
    "for X, y in tqdm(DataLoader(val_data, shuffle=True, batch_size=32)):\n",
    "    y_hat = net(X)\n",
    "    \n",
    "    ys += list(y.numpy())\n",
    "    y_hats += list(y_hat.squeeze().detach().numpy())\n",
    "\n",
    "df = pd.DataFrame([ys, y_hats]).T\n",
    "df.columns = ['gt', 'pred']\n",
    "\n",
    "df['gt'] = df['gt'].astype(int)\n",
    "df['pred_int'] = (df['pred'] + 0.5).astype(int)\n",
    "df['err'] = (df['pred'] - df['gt']).abs()\n",
    "df['hit'] = df['pred_int'] == df['gt']\n",
    "\n",
    "df.head()"
   ]
  },
  {
   "cell_type": "code",
   "execution_count": 8,
   "id": "1d29b057",
   "metadata": {},
   "outputs": [
    {
     "name": "stdout",
     "output_type": "stream",
     "text": [
      "Mean error \t= 1.20\n",
      "Accuracy \t= 28.47 %\n"
     ]
    }
   ],
   "source": [
    "acc = df['hit'].mean()\n",
    "mean_err = (df['pred_int'] - df['gt']).abs().mean()\n",
    "\n",
    "print(f\"Mean error \\t= {mean_err:.2f}\")\n",
    "print(f\"Accuracy \\t= {100*acc:.2f} %\")"
   ]
  },
  {
   "cell_type": "code",
   "execution_count": 9,
   "id": "1b7e96a4",
   "metadata": {},
   "outputs": [
    {
     "data": {
      "image/png": "[encoded data removed]",
      "text/plain": [
       "<Figure size 720x576 with 1 Axes>"
      ]
     },
     "metadata": {
      "needs_background": "light"
     },
     "output_type": "display_data"
    }
   ],
   "source": [
    "err = df.groupby('gt')['err'].agg((np.mean, np.std, np.median))\n",
    "plt.bar(err.index, err['mean'])\n",
    "plt.gcf().set_size_inches(10,8)\n",
    "plt.ylabel('Mean Error')\n",
    "plt.xlabel('Ground-truth')\n",
    "plt.show()"
   ]
  },
  {
   "cell_type": "code",
   "execution_count": 14,
   "id": "043e1cf4",
   "metadata": {},
   "outputs": [
    {
     "data": {
      "image/png": "[encoded data removed]",
      "text/plain": [
       "<Figure size 720x576 with 1 Axes>"
      ]
     },
     "metadata": {
      "needs_background": "light"
     },
     "output_type": "display_data"
    }
   ],
   "source": [
    "split_acc = df.groupby('gt')['hit'].mean()\n",
    "plt.bar(split_acc.index, split_acc.values)\n",
    "plt.gcf().set_size_inches(10,8)\n",
    "plt.ylabel('Accuracy')\n",
    "plt.xlabel('Ground-truth')\n",
    "plt.show()"
   ]
  }
 ],
 "metadata": {
  "kernelspec": {
   "display_name": "Python [conda env:part_counting]",
   "language": "python",
   "name": "conda-env-part_counting-py"
  },
  "language_info": {
   "codemirror_mode": {
    "name": "ipython",
    "version": 3
   },
   "file_extension": ".py",
   "mimetype": "text/x-python",
   "name": "python",
   "nbconvert_exporter": "python",
   "pygments_lexer": "ipython3",
   "version": "3.8.12"
  }
 },
 "nbformat": 4,
 "nbformat_minor": 5
}
