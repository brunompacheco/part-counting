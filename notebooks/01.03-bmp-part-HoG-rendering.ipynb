{
 "cells": [
  {
   "cell_type": "code",
   "execution_count": 1,
   "id": "da632d86",
   "metadata": {},
   "outputs": [],
   "source": [
    "%load_ext autoreload\n",
    "%autoreload 2"
   ]
  },
  {
   "cell_type": "code",
   "execution_count": 2,
   "id": "a2e3246f",
   "metadata": {},
   "outputs": [
    {
     "name": "stdout",
     "output_type": "stream",
     "text": [
      "[Open3D INFO] WebRTC GUI backend enabled.\n"
     ]
    }
   ],
   "source": [
    "import matplotlib.pyplot as plt\n",
    "import numpy as np\n",
    "import open3d as o3d\n",
    "\n",
    "from dotenv import load_dotenv, find_dotenv\n",
    "from pathlib import Path\n",
    "\n",
    "# find .env automagically by walking up directories until it's found\n",
    "dotenv_path = find_dotenv()\n",
    "project_dir = Path(dotenv_path).parent\n",
    "\n",
    "# load up the entries as environment variables\n",
    "load_dotenv(dotenv_path)\n",
    "\n",
    "o3d.visualization.webrtc_server.enable_webrtc()"
   ]
  },
  {
   "cell_type": "code",
   "execution_count": 20,
   "id": "32135c41",
   "metadata": {},
   "outputs": [
    {
     "data": {
      "text/plain": [
       "TriangleMesh with 24638 points and 10704 triangles."
      ]
     },
     "execution_count": 20,
     "metadata": {},
     "output_type": "execute_result"
    }
   ],
   "source": [
    "part_fpath = project_dir/'data/raw/part.stl'\n",
    "\n",
    "part_mesh = o3d.io.read_triangle_mesh(str(part_fpath), enable_post_processing=True)\n",
    "\n",
    "part_mesh.paint_uniform_color([1., 0., 0.,])\n",
    "\n",
    "vertices = np.array(part_mesh.vertices) / 1000\n",
    "part_mesh.vertices = o3d.utility.Vector3dVector(vertices)\n",
    "\n",
    "part_mesh"
   ]
  },
  {
   "cell_type": "code",
   "execution_count": 24,
   "id": "d07e7cfb",
   "metadata": {},
   "outputs": [
    {
     "data": {
      "text/plain": [
       "OrientedBoundingBox: center: (0.0456169, 0.000228735, 0.00146532), extent: 0.0934125, 0.125106, 0.125107)"
      ]
     },
     "execution_count": 24,
     "metadata": {},
     "output_type": "execute_result"
    }
   ],
   "source": [
    "part_mesh.get_oriented_bounding_box()"
   ]
  },
  {
   "cell_type": "code",
   "execution_count": 26,
   "id": "601db8d1",
   "metadata": {},
   "outputs": [
    {
     "name": "stdout",
     "output_type": "stream",
     "text": [
      "[Open3D INFO] EGL headless mode enabled.\n"
     ]
    },
    {
     "data": {
      "text/plain": [
       "<open3d.cuda.pybind.visualization.rendering.OffscreenRenderer at 0x7fc386f5d5b0>"
      ]
     },
     "execution_count": 26,
     "metadata": {},
     "output_type": "execute_result"
    }
   ],
   "source": [
    "osr = o3d.visualization.rendering.OffscreenRenderer(512,512)\n",
    "\n",
    "osr."
   ]
  }
 ],
 "metadata": {
  "kernelspec": {
   "display_name": "Python [conda env:part_counting]",
   "language": "python",
   "name": "conda-env-part_counting-py"
  },
  "language_info": {
   "codemirror_mode": {
    "name": "ipython",
    "version": 3
   },
   "file_extension": ".py",
   "mimetype": "text/x-python",
   "name": "python",
   "nbconvert_exporter": "python",
   "pygments_lexer": "ipython3",
   "version": "3.8.12"
  }
 },
 "nbformat": 4,
 "nbformat_minor": 5
}
