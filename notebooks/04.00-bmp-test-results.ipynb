{
 "cells": [
  {
   "cell_type": "code",
   "execution_count": 1,
   "id": "3684a2af",
   "metadata": {},
   "outputs": [],
   "source": [
    "%load_ext autoreload\n",
    "%autoreload 2"
   ]
  },
  {
   "cell_type": "code",
   "execution_count": 2,
   "id": "da665475",
   "metadata": {},
   "outputs": [
    {
     "data": {
      "text/plain": [
       "True"
      ]
     },
     "execution_count": 2,
     "metadata": {},
     "output_type": "execute_result"
    }
   ],
   "source": [
    "import json\n",
    "\n",
    "from copy import deepcopy\n",
    "\n",
    "import matplotlib.pyplot as plt\n",
    "import numpy as np\n",
    "import pandas as pd\n",
    "\n",
    "from dotenv import load_dotenv, find_dotenv\n",
    "from pathlib import Path\n",
    "\n",
    "# find .env automagically by walking up directories until it's found\n",
    "dotenv_path = find_dotenv()\n",
    "project_dir = Path(dotenv_path).parent\n",
    "\n",
    "# load up the entries as environment variables\n",
    "load_dotenv(dotenv_path)"
   ]
  },
  {
   "cell_type": "code",
   "execution_count": 3,
   "id": "d0397028",
   "metadata": {},
   "outputs": [],
   "source": [
    "model_name = 'pso'\n",
    "\n",
    "test_preds_fpath = project_dir/f'reports/{model_name}_test_preds.json'\n",
    "test_times_fpath = project_dir/f'reports/{model_name}_test_times.json'\n",
    "\n",
    "assert test_preds_fpath.exists()\n",
    "assert test_times_fpath.exists()"
   ]
  },
  {
   "cell_type": "code",
   "execution_count": 4,
   "id": "d9997abe",
   "metadata": {},
   "outputs": [
    {
     "data": {
      "text/plain": [
       "(2021, 2021)"
      ]
     },
     "execution_count": 4,
     "metadata": {},
     "output_type": "execute_result"
    }
   ],
   "source": [
    "with open(test_preds_fpath, 'r') as f:\n",
    "    preds = json.load(f)\n",
    "\n",
    "with open(test_times_fpath, 'r') as f:\n",
    "    times = json.load(f)\n",
    "\n",
    "len(times), len(preds)"
   ]
  },
  {
   "cell_type": "code",
   "execution_count": 11,
   "id": "e608471c",
   "metadata": {},
   "outputs": [
    {
     "data": {
      "text/plain": [
       "simulacao391_0051    15\n",
       "simulacao391_0005     7\n",
       "simulacao95_0073     19\n",
       "simulacao552_0030    21\n",
       "simulacao708_0004     5\n",
       "                     ..\n",
       "simulacao148_0059    16\n",
       "simulacao811_0049    16\n",
       "simulacao868_0081    18\n",
       "simulacao720_0091    20\n",
       "simulacao900_0000     6\n",
       "Length: 2021, dtype: int64"
      ]
     },
     "execution_count": 11,
     "metadata": {},
     "output_type": "execute_result"
    }
   ],
   "source": [
    "sim = np.array([s.split('.')[0] for s in preds.keys()])\n",
    "y_hat = np.array(list(preds.values()))\n",
    "y_hat = pd.Series(y_hat, sim)\n",
    "\n",
    "y_hat"
   ]
  },
  {
   "cell_type": "code",
   "execution_count": 13,
   "id": "d7614a4f",
   "metadata": {},
   "outputs": [
    {
     "data": {
      "text/plain": [
       "simulacao391_0051    152.296066\n",
       "simulacao391_0005     74.274453\n",
       "simulacao95_0073     190.868107\n",
       "simulacao552_0030    207.318765\n",
       "simulacao708_0004     55.261035\n",
       "                        ...    \n",
       "simulacao148_0059    166.228421\n",
       "simulacao811_0049    164.078300\n",
       "simulacao868_0081    182.380575\n",
       "simulacao720_0091    200.232231\n",
       "simulacao900_0000     64.829446\n",
       "Length: 2021, dtype: float64"
      ]
     },
     "execution_count": 13,
     "metadata": {},
     "output_type": "execute_result"
    }
   ],
   "source": [
    "sim = np.array([s.split('.')[0] for s in times.keys()])\n",
    "t = np.array(list(times.values()))\n",
    "t = pd.Series(t, sim)\n",
    "\n",
    "t"
   ]
  },
  {
   "cell_type": "code",
   "execution_count": 22,
   "id": "8a57c29a",
   "metadata": {},
   "outputs": [
    {
     "data": {
      "text/html": [
       "<div>\n",
       "<style scoped>\n",
       "    .dataframe tbody tr th:only-of-type {\n",
       "        vertical-align: middle;\n",
       "    }\n",
       "\n",
       "    .dataframe tbody tr th {\n",
       "        vertical-align: top;\n",
       "    }\n",
       "\n",
       "    .dataframe thead th {\n",
       "        text-align: right;\n",
       "    }\n",
       "</style>\n",
       "<table border=\"1\" class=\"dataframe\">\n",
       "  <thead>\n",
       "    <tr style=\"text-align: right;\">\n",
       "      <th></th>\n",
       "      <th>Sim</th>\n",
       "      <th>y_hat</th>\n",
       "      <th>t</th>\n",
       "      <th>y</th>\n",
       "      <th>model</th>\n",
       "      <th>error</th>\n",
       "    </tr>\n",
       "  </thead>\n",
       "  <tbody>\n",
       "    <tr>\n",
       "      <th>0</th>\n",
       "      <td>simulacao391_0051</td>\n",
       "      <td>15.0</td>\n",
       "      <td>152.296066</td>\n",
       "      <td>51</td>\n",
       "      <td>pso</td>\n",
       "      <td>36.0</td>\n",
       "    </tr>\n",
       "    <tr>\n",
       "      <th>1</th>\n",
       "      <td>simulacao391_0005</td>\n",
       "      <td>7.0</td>\n",
       "      <td>74.274453</td>\n",
       "      <td>5</td>\n",
       "      <td>pso</td>\n",
       "      <td>2.0</td>\n",
       "    </tr>\n",
       "    <tr>\n",
       "      <th>2</th>\n",
       "      <td>simulacao95_0073</td>\n",
       "      <td>19.0</td>\n",
       "      <td>190.868107</td>\n",
       "      <td>73</td>\n",
       "      <td>pso</td>\n",
       "      <td>54.0</td>\n",
       "    </tr>\n",
       "    <tr>\n",
       "      <th>3</th>\n",
       "      <td>simulacao552_0030</td>\n",
       "      <td>21.0</td>\n",
       "      <td>207.318765</td>\n",
       "      <td>30</td>\n",
       "      <td>pso</td>\n",
       "      <td>9.0</td>\n",
       "    </tr>\n",
       "    <tr>\n",
       "      <th>4</th>\n",
       "      <td>simulacao708_0004</td>\n",
       "      <td>5.0</td>\n",
       "      <td>55.261035</td>\n",
       "      <td>4</td>\n",
       "      <td>pso</td>\n",
       "      <td>1.0</td>\n",
       "    </tr>\n",
       "    <tr>\n",
       "      <th>...</th>\n",
       "      <td>...</td>\n",
       "      <td>...</td>\n",
       "      <td>...</td>\n",
       "      <td>...</td>\n",
       "      <td>...</td>\n",
       "      <td>...</td>\n",
       "    </tr>\n",
       "    <tr>\n",
       "      <th>2016</th>\n",
       "      <td>simulacao148_0059</td>\n",
       "      <td>16.0</td>\n",
       "      <td>166.228421</td>\n",
       "      <td>59</td>\n",
       "      <td>pso</td>\n",
       "      <td>43.0</td>\n",
       "    </tr>\n",
       "    <tr>\n",
       "      <th>2017</th>\n",
       "      <td>simulacao811_0049</td>\n",
       "      <td>16.0</td>\n",
       "      <td>164.078300</td>\n",
       "      <td>49</td>\n",
       "      <td>pso</td>\n",
       "      <td>33.0</td>\n",
       "    </tr>\n",
       "    <tr>\n",
       "      <th>2018</th>\n",
       "      <td>simulacao868_0081</td>\n",
       "      <td>18.0</td>\n",
       "      <td>182.380575</td>\n",
       "      <td>81</td>\n",
       "      <td>pso</td>\n",
       "      <td>63.0</td>\n",
       "    </tr>\n",
       "    <tr>\n",
       "      <th>2019</th>\n",
       "      <td>simulacao720_0091</td>\n",
       "      <td>20.0</td>\n",
       "      <td>200.232231</td>\n",
       "      <td>91</td>\n",
       "      <td>pso</td>\n",
       "      <td>71.0</td>\n",
       "    </tr>\n",
       "    <tr>\n",
       "      <th>2020</th>\n",
       "      <td>simulacao900_0000</td>\n",
       "      <td>6.0</td>\n",
       "      <td>64.829446</td>\n",
       "      <td>0</td>\n",
       "      <td>pso</td>\n",
       "      <td>6.0</td>\n",
       "    </tr>\n",
       "  </tbody>\n",
       "</table>\n",
       "<p>2021 rows × 6 columns</p>\n",
       "</div>"
      ],
      "text/plain": [
       "                    Sim  y_hat           t   y model  error\n",
       "0     simulacao391_0051   15.0  152.296066  51   pso   36.0\n",
       "1     simulacao391_0005    7.0   74.274453   5   pso    2.0\n",
       "2      simulacao95_0073   19.0  190.868107  73   pso   54.0\n",
       "3     simulacao552_0030   21.0  207.318765  30   pso    9.0\n",
       "4     simulacao708_0004    5.0   55.261035   4   pso    1.0\n",
       "...                 ...    ...         ...  ..   ...    ...\n",
       "2016  simulacao148_0059   16.0  166.228421  59   pso   43.0\n",
       "2017  simulacao811_0049   16.0  164.078300  49   pso   33.0\n",
       "2018  simulacao868_0081   18.0  182.380575  81   pso   63.0\n",
       "2019  simulacao720_0091   20.0  200.232231  91   pso   71.0\n",
       "2020  simulacao900_0000    6.0   64.829446   0   pso    6.0\n",
       "\n",
       "[2021 rows x 6 columns]"
      ]
     },
     "execution_count": 22,
     "metadata": {},
     "output_type": "execute_result"
    }
   ],
   "source": [
    "df = pd.DataFrame([y_hat, t]).T\n",
    "df = df.reset_index()\n",
    "df.columns = ['Sim', 'y_hat', 't']\n",
    "\n",
    "df['y'] = df['Sim'].apply(lambda s: int(s.split('_')[-1]))\n",
    "df['model'] = model_name\n",
    "df['error'] = (df['y'] - df['y_hat']).abs()\n",
    "df"
   ]
  },
  {
   "cell_type": "code",
   "execution_count": 23,
   "id": "f8e8211f",
   "metadata": {},
   "outputs": [
    {
     "data": {
      "text/html": [
       "<div>\n",
       "<style scoped>\n",
       "    .dataframe tbody tr th:only-of-type {\n",
       "        vertical-align: middle;\n",
       "    }\n",
       "\n",
       "    .dataframe tbody tr th {\n",
       "        vertical-align: top;\n",
       "    }\n",
       "\n",
       "    .dataframe thead th {\n",
       "        text-align: right;\n",
       "    }\n",
       "</style>\n",
       "<table border=\"1\" class=\"dataframe\">\n",
       "  <thead>\n",
       "    <tr style=\"text-align: right;\">\n",
       "      <th></th>\n",
       "      <th>Sim</th>\n",
       "      <th>y_hat</th>\n",
       "      <th>t</th>\n",
       "      <th>y</th>\n",
       "      <th>model</th>\n",
       "      <th>error</th>\n",
       "    </tr>\n",
       "  </thead>\n",
       "  <tbody>\n",
       "    <tr>\n",
       "      <th>0</th>\n",
       "      <td>simulacao391_0051</td>\n",
       "      <td>15.0</td>\n",
       "      <td>152.296066</td>\n",
       "      <td>51</td>\n",
       "      <td>test</td>\n",
       "      <td>36.0</td>\n",
       "    </tr>\n",
       "    <tr>\n",
       "      <th>1</th>\n",
       "      <td>simulacao391_0005</td>\n",
       "      <td>7.0</td>\n",
       "      <td>74.274453</td>\n",
       "      <td>5</td>\n",
       "      <td>test</td>\n",
       "      <td>2.0</td>\n",
       "    </tr>\n",
       "    <tr>\n",
       "      <th>2</th>\n",
       "      <td>simulacao95_0073</td>\n",
       "      <td>19.0</td>\n",
       "      <td>190.868107</td>\n",
       "      <td>73</td>\n",
       "      <td>test</td>\n",
       "      <td>54.0</td>\n",
       "    </tr>\n",
       "    <tr>\n",
       "      <th>3</th>\n",
       "      <td>simulacao552_0030</td>\n",
       "      <td>21.0</td>\n",
       "      <td>207.318765</td>\n",
       "      <td>30</td>\n",
       "      <td>test</td>\n",
       "      <td>9.0</td>\n",
       "    </tr>\n",
       "    <tr>\n",
       "      <th>4</th>\n",
       "      <td>simulacao708_0004</td>\n",
       "      <td>5.0</td>\n",
       "      <td>55.261035</td>\n",
       "      <td>4</td>\n",
       "      <td>test</td>\n",
       "      <td>1.0</td>\n",
       "    </tr>\n",
       "    <tr>\n",
       "      <th>...</th>\n",
       "      <td>...</td>\n",
       "      <td>...</td>\n",
       "      <td>...</td>\n",
       "      <td>...</td>\n",
       "      <td>...</td>\n",
       "      <td>...</td>\n",
       "    </tr>\n",
       "    <tr>\n",
       "      <th>2016</th>\n",
       "      <td>simulacao148_0059</td>\n",
       "      <td>16.0</td>\n",
       "      <td>166.228421</td>\n",
       "      <td>59</td>\n",
       "      <td>test</td>\n",
       "      <td>43.0</td>\n",
       "    </tr>\n",
       "    <tr>\n",
       "      <th>2017</th>\n",
       "      <td>simulacao811_0049</td>\n",
       "      <td>16.0</td>\n",
       "      <td>164.078300</td>\n",
       "      <td>49</td>\n",
       "      <td>test</td>\n",
       "      <td>33.0</td>\n",
       "    </tr>\n",
       "    <tr>\n",
       "      <th>2018</th>\n",
       "      <td>simulacao868_0081</td>\n",
       "      <td>18.0</td>\n",
       "      <td>182.380575</td>\n",
       "      <td>81</td>\n",
       "      <td>test</td>\n",
       "      <td>63.0</td>\n",
       "    </tr>\n",
       "    <tr>\n",
       "      <th>2019</th>\n",
       "      <td>simulacao720_0091</td>\n",
       "      <td>20.0</td>\n",
       "      <td>200.232231</td>\n",
       "      <td>91</td>\n",
       "      <td>test</td>\n",
       "      <td>71.0</td>\n",
       "    </tr>\n",
       "    <tr>\n",
       "      <th>2020</th>\n",
       "      <td>simulacao900_0000</td>\n",
       "      <td>6.0</td>\n",
       "      <td>64.829446</td>\n",
       "      <td>0</td>\n",
       "      <td>test</td>\n",
       "      <td>6.0</td>\n",
       "    </tr>\n",
       "  </tbody>\n",
       "</table>\n",
       "<p>2021 rows × 6 columns</p>\n",
       "</div>"
      ],
      "text/plain": [
       "                    Sim  y_hat           t   y model  error\n",
       "0     simulacao391_0051   15.0  152.296066  51  test   36.0\n",
       "1     simulacao391_0005    7.0   74.274453   5  test    2.0\n",
       "2      simulacao95_0073   19.0  190.868107  73  test   54.0\n",
       "3     simulacao552_0030   21.0  207.318765  30  test    9.0\n",
       "4     simulacao708_0004    5.0   55.261035   4  test    1.0\n",
       "...                 ...    ...         ...  ..   ...    ...\n",
       "2016  simulacao148_0059   16.0  166.228421  59  test   43.0\n",
       "2017  simulacao811_0049   16.0  164.078300  49  test   33.0\n",
       "2018  simulacao868_0081   18.0  182.380575  81  test   63.0\n",
       "2019  simulacao720_0091   20.0  200.232231  91  test   71.0\n",
       "2020  simulacao900_0000    6.0   64.829446   0  test    6.0\n",
       "\n",
       "[2021 rows x 6 columns]"
      ]
     },
     "execution_count": 23,
     "metadata": {},
     "output_type": "execute_result"
    }
   ],
   "source": [
    "df_ = df.copy()\n",
    "df_['model'] = 'test'\n",
    "df_"
   ]
  },
  {
   "cell_type": "code",
   "execution_count": 28,
   "id": "26bdd30a",
   "metadata": {},
   "outputs": [
    {
     "data": {
      "text/plain": [
       "<AxesSubplot:title={'center':'error'}, xlabel='model'>"
      ]
     },
     "execution_count": 28,
     "metadata": {},
     "output_type": "execute_result"
    },
    {
     "data": {
      "image/png": "[encoded data removed]",
      "text/plain": [
       "<Figure size 432x288 with 1 Axes>"
      ]
     },
     "metadata": {
      "needs_background": "light"
     },
     "output_type": "display_data"
    }
   ],
   "source": [
    "pd.concat([df, df_]).boxplot('error', 'model')"
   ]
  },
  {
   "cell_type": "code",
   "execution_count": 40,
   "id": "40fea47e",
   "metadata": {},
   "outputs": [
    {
     "data": {
      "image/png": "[encoded data removed]",
      "text/plain": [
       "<Figure size 1152x720 with 1 Axes>"
      ]
     },
     "metadata": {
      "needs_background": "light"
     },
     "output_type": "display_data"
    }
   ],
   "source": [
    "fig, ax = plt.subplots()\n",
    "\n",
    "fig.set_size_inches(16,10)\n",
    "\n",
    "df.boxplot('error', 'model', ax=ax)\n",
    "\n",
    "ax.set_ylim(-1, ax.get_ylim()[1])\n",
    "\n",
    "ax.grid(False)\n",
    "\n",
    "fig.show()"
   ]
  },
  {
   "cell_type": "code",
   "execution_count": 41,
   "id": "25dfa326",
   "metadata": {},
   "outputs": [
    {
     "data": {
      "image/png": "[encoded data removed]",
      "text/plain": [
       "<Figure size 1152x720 with 1 Axes>"
      ]
     },
     "metadata": {
      "needs_background": "light"
     },
     "output_type": "display_data"
    }
   ],
   "source": [
    "fig, ax = plt.subplots()\n",
    "\n",
    "fig.set_size_inches(16,10)\n",
    "\n",
    "df.boxplot('error', 'y', ax=ax)\n",
    "\n",
    "xticks = np.linspace(0,100,11)\n",
    "\n",
    "ax.set_xticks(xticks+1, xticks.astype(int))\n",
    "ax.grid(False)\n",
    "\n",
    "fig.show()"
   ]
  },
  {
   "cell_type": "code",
   "execution_count": 30,
   "id": "493f6d92",
   "metadata": {},
   "outputs": [
    {
     "data": {
      "text/plain": [
       "array(['test'], dtype=object)"
      ]
     },
     "execution_count": 30,
     "metadata": {},
     "output_type": "execute_result"
    }
   ],
   "source": [
    "df_['model'].unique()"
   ]
  },
  {
   "cell_type": "code",
   "execution_count": 36,
   "id": "1af4f47f",
   "metadata": {},
   "outputs": [
    {
     "data": {
      "image/png": "[encoded data removed]",
      "text/plain": [
       "<Figure size 1152x720 with 1 Axes>"
      ]
     },
     "metadata": {
      "needs_background": "light"
     },
     "output_type": "display_data"
    }
   ],
   "source": [
    "fig, ax = plt.subplots()\n",
    "\n",
    "fig.set_size_inches(16,10)\n",
    "\n",
    "err_mean = df.groupby('y')['error'].mean()\n",
    "err_std = df.groupby('y')['error'].std()\n",
    "\n",
    "ax.plot(err_mean.index, err_mean, label='asdf')\n",
    "ax.fill_between(err_mean.index, err_mean + err_std, err_mean - err_std, alpha=0.5)\n",
    "\n",
    "ax.set_xlim(0, 100)\n",
    "ax.legend()\n",
    "ax.grid()\n",
    "\n",
    "fig.show()"
   ]
  },
  {
   "cell_type": "code",
   "execution_count": 48,
   "id": "f84bbefa",
   "metadata": {},
   "outputs": [
    {
     "data": {
      "text/plain": [
       "0       15.0\n",
       "1        7.0\n",
       "2       19.0\n",
       "3       21.0\n",
       "4        5.0\n",
       "        ... \n",
       "2016    16.0\n",
       "2017    16.0\n",
       "2018    18.0\n",
       "2019    20.0\n",
       "2020     6.0\n",
       "Name: y_hat, Length: 2021, dtype: float64"
      ]
     },
     "execution_count": 48,
     "metadata": {},
     "output_type": "execute_result"
    }
   ],
   "source": [
    "df['y_hat']"
   ]
  },
  {
   "cell_type": "code",
   "execution_count": 56,
   "id": "8d175189",
   "metadata": {},
   "outputs": [
    {
     "data": {
      "text/plain": [
       "0.01929737753587333"
      ]
     },
     "execution_count": 56,
     "metadata": {},
     "output_type": "execute_result"
    }
   ],
   "source": [
    "acc = (df['y_hat'] + 0.5).astype(int) == df['y']\n",
    "acc.sum() / acc.size"
   ]
  }
 ],
 "metadata": {
  "kernelspec": {
   "display_name": "Python [conda env:part_counting]",
   "language": "python",
   "name": "conda-env-part_counting-py"
  },
  "language_info": {
   "codemirror_mode": {
    "name": "ipython",
    "version": 3
   },
   "file_extension": ".py",
   "mimetype": "text/x-python",
   "name": "python",
   "nbconvert_exporter": "python",
   "pygments_lexer": "ipython3",
   "version": "3.8.12"
  }
 },
 "nbformat": 4,
 "nbformat_minor": 5
}
