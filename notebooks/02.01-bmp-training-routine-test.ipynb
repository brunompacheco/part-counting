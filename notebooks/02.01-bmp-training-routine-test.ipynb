{
 "cells": [
  {
   "cell_type": "code",
   "execution_count": 1,
   "id": "290c15da",
   "metadata": {},
   "outputs": [],
   "source": [
    "%load_ext autoreload\n",
    "%autoreload 2"
   ]
  },
  {
   "cell_type": "code",
   "execution_count": 2,
   "id": "5b71a4c2",
   "metadata": {},
   "outputs": [
    {
     "data": {
      "text/plain": [
       "True"
      ]
     },
     "execution_count": 2,
     "metadata": {},
     "output_type": "execute_result"
    }
   ],
   "source": [
    "import h5py\n",
    "import matplotlib.pyplot as plt\n",
    "import torch\n",
    "import torch.nn as nn\n",
    "import torch.nn.functional as F\n",
    "import wandb\n",
    "\n",
    "from dotenv import load_dotenv, find_dotenv\n",
    "from pathlib import Path\n",
    "from torch.utils.data import DataLoader, random_split\n",
    "from torch.cuda.amp import autocast, GradScaler\n",
    "\n",
    "from src.data import FimacDataset\n",
    "\n",
    "device = torch.device(\"cuda:0\" if torch.cuda.is_available() else \"cpu\")\n",
    "\n",
    "# find .env automagically by walking up directories until it's found\n",
    "dotenv_path = find_dotenv()\n",
    "project_dir = Path(dotenv_path).parent\n",
    "\n",
    "# load up the entries as environment variables\n",
    "load_dotenv(dotenv_path)"
   ]
  },
  {
   "cell_type": "markdown",
   "id": "cfa4f653",
   "metadata": {},
   "source": [
    "# Data loading"
   ]
  },
  {
   "cell_type": "code",
   "execution_count": 3,
   "id": "c72994d1",
   "metadata": {},
   "outputs": [],
   "source": [
    "dataset = FimacDataset(project_dir/'data/interim/renders.hdf5')\n",
    "\n",
    "split = 0.8\n",
    "test_size = int(len(dataset) * split)\n",
    "train_data, val_data = random_split(dataset, (len(dataset) - test_size, test_size))\n",
    "\n",
    "train_dataloader = DataLoader(train_data, batch_size=16, shuffle=True)\n",
    "val_dataloader = DataLoader(val_data, batch_size=32)"
   ]
  },
  {
   "cell_type": "markdown",
   "id": "fa1df271",
   "metadata": {},
   "source": [
    "# Network definition"
   ]
  },
  {
   "cell_type": "code",
   "execution_count": 4,
   "id": "64c7bdd7",
   "metadata": {},
   "outputs": [
    {
     "data": {
      "text/plain": [
       "TestNet(\n",
       "  (conv1): Conv2d(2, 32, kernel_size=(3, 3), stride=(1, 1), padding=(1, 1))\n",
       "  (conv2): Conv2d(32, 64, kernel_size=(3, 3), stride=(1, 1), padding=(1, 1))\n",
       "  (dropout1): Dropout2d(p=0.25, inplace=False)\n",
       "  (fc1): Linear(in_features=1048576, out_features=128, bias=True)\n",
       "  (dropout2): Dropout2d(p=0.5, inplace=False)\n",
       "  (fc2): Linear(in_features=128, out_features=1, bias=True)\n",
       ")"
      ]
     },
     "execution_count": 4,
     "metadata": {},
     "output_type": "execute_result"
    }
   ],
   "source": [
    "from src.models import TestNet\n",
    "\n",
    "net = TestNet().to(device)\n",
    "net"
   ]
  },
  {
   "cell_type": "markdown",
   "id": "78f12103",
   "metadata": {},
   "source": [
    "# Training loop"
   ]
  },
  {
   "cell_type": "code",
   "execution_count": 5,
   "id": "16b54282",
   "metadata": {},
   "outputs": [],
   "source": [
    "def int_MAE(y, y_hat):\n",
    "    err = y.type(torch.IntTensor) - y_hat.type(torch.IntTensor)    \n",
    "    err = err.abs()\n",
    "    err = err.type(torch.FloatTensor).mean()\n",
    "\n",
    "    return err.item()"
   ]
  },
  {
   "cell_type": "code",
   "execution_count": 7,
   "id": "a943da8b",
   "metadata": {
    "scrolled": false
   },
   "outputs": [
    {
     "name": "stderr",
     "output_type": "stream",
     "text": [
      "\u001b[34m\u001b[1mwandb\u001b[0m: Currently logged in as: \u001b[33mbrunompac\u001b[0m (use `wandb login --relogin` to force relogin)\n"
     ]
    },
    {
     "data": {
      "text/html": [
       "\n",
       "                    Syncing run <strong><a href=\"https://wandb.ai/brunompac/part-counting/runs/29yl0v68\" target=\"_blank\">vital-thunder-5</a></strong> to <a href=\"https://wandb.ai/brunompac/part-counting\" target=\"_blank\">Weights & Biases</a> (<a href=\"https://docs.wandb.com/integrations/jupyter.html\" target=\"_blank\">docs</a>).<br/>\n",
       "\n",
       "                "
      ],
      "text/plain": [
       "<IPython.core.display.HTML object>"
      ]
     },
     "metadata": {},
     "output_type": "display_data"
    }
   ],
   "source": [
    "epochs = 5\n",
    "\n",
    "lr = 0.001\n",
    "optimizer = torch.optim.SGD(net.parameters(), lr=lr)\n",
    "criterion = nn.L1Loss()\n",
    "scaler = GradScaler()\n",
    "\n",
    "wandb.init(\n",
    "    project=\"part-counting\",\n",
    "    entity=\"brunompac\",\n",
    "    config={\n",
    "        \"learning_rate\": lr,\n",
    "        \"epochs\": epochs,\n",
    "        \"batch_size\": train_dataloader.batch_size,\n",
    "        \"model\": type(net).__name__,\n",
    "        \"optmizer\": type(optimizer).__name__,\n",
    "        \"loss_func\": type(criterion).__name__,\n",
    "})\n",
    "\n",
    "wandb.watch(net)\n",
    "\n",
    "for epoch in range(epochs):\n",
    "    # train pass\n",
    "    net.train()\n",
    "    train_loss = 0\n",
    "    with torch.set_grad_enabled(True):\n",
    "        for i, (X, y) in enumerate(train_dataloader):\n",
    "            X = X.to(device)\n",
    "            y = y.to(device)\n",
    "\n",
    "            optimizer.zero_grad()\n",
    "\n",
    "            with autocast():\n",
    "                y_hat = net(X)\n",
    "                loss = criterion(y_hat.squeeze(), y.type(torch.float32))\n",
    "\n",
    "            scaler.scale(loss).backward()\n",
    "\n",
    "            train_loss += loss.item() / len(y)  # scales to data size\n",
    "\n",
    "            scaler.step(optimizer)\n",
    "            scaler.update()\n",
    "\n",
    "    wandb.log({\n",
    "        \"train_loss\": train_loss,\n",
    "    }, step=epoch)\n",
    "\n",
    "    # validation pass\n",
    "    net.eval()\n",
    "    val_loss = 0\n",
    "    val_MAE = 0\n",
    "    with torch.set_grad_enabled(False):\n",
    "        for i, (X, y) in enumerate(train_dataloader):\n",
    "            X = X.to(device)\n",
    "            y = y.to(device)\n",
    "\n",
    "            with autocast():\n",
    "                y_hat = net(X)\n",
    "                loss = criterion(y_hat.squeeze(), y.type(torch.float32))\n",
    "\n",
    "            val_loss += loss.item() / len(y)  # scales to data size\n",
    "            val_MAE += int_MAE(y, y_hat.squeeze()) / len(y)\n",
    "\n",
    "    wandb.log({\n",
    "        \"val_loss\": val_loss,\n",
    "        \"val_MAE\": val_MAE,\n",
    "    }, step=epoch, commit=True)"
   ]
  }
 ],
 "metadata": {
  "kernelspec": {
   "display_name": "Python [conda env:part_counting]",
   "language": "python",
   "name": "conda-env-part_counting-py"
  },
  "language_info": {
   "codemirror_mode": {
    "name": "ipython",
    "version": 3
   },
   "file_extension": ".py",
   "mimetype": "text/x-python",
   "name": "python",
   "nbconvert_exporter": "python",
   "pygments_lexer": "ipython3",
   "version": "3.8.12"
  }
 },
 "nbformat": 4,
 "nbformat_minor": 5
}
